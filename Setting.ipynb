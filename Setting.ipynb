{
 "cells": [
  {
   "cell_type": "markdown",
   "metadata": {},
   "source": [
    "## lib 수동설치 \n",
    "\n",
    "### Case1 : whl 파일 다운로드 및 설치\n",
    "\n",
    "**lib 의존파일 존재 여부 필수 체크!**\n",
    "\n",
    "1. pip wheel -r requirements.txt --wheel-dir wheels\n",
    "\n",
    "2. 필요한 라이브러리의 .whl 파일을 공식 사이트(PyPI) 에서 다운로드_버전 일치여부 확인 필요\n",
    "\n",
    "3. cmd에 whl 파일이 위치한 경로 입력 : cd C:\\Users\\YourUsername\\Downloads\n",
    "\n",
    "4. pip 설치 : pip install 파일명.whl \n",
    "    \n",
    "    - ex) example_lib-1.0.0-cp39-cp39-win_amd64.whl > pip install example_lib-1.0.0-cp39-cp39-win_amd64.whl\n",
    "\n",
    "5. 라이브러리 설치 확인\n",
    "    \n",
    "    - import example_lib\n",
    "    \n",
    "    - print(example_lib.__version__) \n",
    "\n",
    "\n",
    "### Case2 : requirements.txt 배포\n",
    "\n",
    "1. 현재 내 라이브러리와 같은 lib 설치 : pip list --format=freeze > requirements.txt\n",
    "\n",
    "2. mkdir wheels && pip wheel -r requirements.txt --wheel-dir wheels"
   ]
  },
  {
   "cell_type": "markdown",
   "metadata": {},
   "source": []
  }
 ],
 "metadata": {
  "language_info": {
   "name": "python"
  }
 },
 "nbformat": 4,
 "nbformat_minor": 2
}
